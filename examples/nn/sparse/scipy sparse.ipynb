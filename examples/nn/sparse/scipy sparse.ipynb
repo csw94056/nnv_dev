{
 "cells": [
  {
   "cell_type": "code",
   "execution_count": 8,
   "id": "6fa199e4",
   "metadata": {},
   "outputs": [],
   "source": [
    "import numpy as np\n",
    "import scipy.sparse as sp\n",
    "from scipy.sparse import coo_matrix, bmat"
   ]
  },
  {
   "cell_type": "code",
   "execution_count": 10,
   "id": "dd8248ef",
   "metadata": {},
   "outputs": [],
   "source": [
    "cs34 = sp.csr_matrix((3, 4), dtype=np.int8)"
   ]
  },
  {
   "cell_type": "code",
   "execution_count": 12,
   "id": "9270d769",
   "metadata": {},
   "outputs": [
    {
     "name": "stdout",
     "output_type": "stream",
     "text": [
      "[[0 0 0 0]\n",
      " [0 0 0 0]\n",
      " [0 0 0 0]]\n"
     ]
    }
   ],
   "source": [
    "print(cs34.toarray())"
   ]
  },
  {
   "cell_type": "code",
   "execution_count": null,
   "id": "e00b037a",
   "metadata": {},
   "outputs": [],
   "source": []
  }
 ],
 "metadata": {
  "kernelspec": {
   "display_name": "Python 3 (ipykernel)",
   "language": "python",
   "name": "python3"
  },
  "language_info": {
   "codemirror_mode": {
    "name": "ipython",
    "version": 3
   },
   "file_extension": ".py",
   "mimetype": "text/x-python",
   "name": "python",
   "nbconvert_exporter": "python",
   "pygments_lexer": "ipython3",
   "version": "3.10.2"
  }
 },
 "nbformat": 4,
 "nbformat_minor": 5
}
